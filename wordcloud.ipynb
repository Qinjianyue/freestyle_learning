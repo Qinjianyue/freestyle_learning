{
 "cells": [
  {
   "cell_type": "code",
   "execution_count": null,
   "metadata": {},
   "outputs": [],
   "source": [
    "import jieba\n",
    "import wordcloud\n",
    "from scipy.misc import imread  # 这是一个处理图像的函数\n",
    "from wordcloud import WordCloud, ImageColorGenerator\n",
    "import matplotlib.pyplot as plt"
   ]
  },
  {
   "cell_type": "code",
   "execution_count": null,
   "metadata": {},
   "outputs": [],
   "source": [
    "back_color = imread('D:\\pikapika.jpg')"
   ]
  },
  {
   "cell_type": "code",
   "execution_count": null,
   "metadata": {},
   "outputs": [],
   "source": [
    "wc = WordCloud(background_color='white',  # 背景颜色\n",
    "               max_words=1000,  # 最大词数\n",
    "               mask=back_color,  # 以该参数值作图绘制词云，这个参数不为空时，width和height会被忽略\n",
    "               max_font_size=1000,  # 显示字体的最大值\n",
    "              # stopwords=STOPWORDS.add(''),使用内置的屏蔽词，再添加'苟利国'。但没什么好屏蔽的，就没有添加该属性。\n",
    "               font_path=\"C:/Windows/Fonts/STFANGSO.ttf\",  # 解决显示口字型乱码问题，可进入C:/Windows/Fonts/目录更换字体\n",
    "               random_state=42,  # 为每个词返回一个PIL颜色\n",
    "               width=1024,  # 图片的宽\n",
    "               height=768  #图片的长\n",
    "               )"
   ]
  },
  {
   "cell_type": "code",
   "execution_count": null,
   "metadata": {},
   "outputs": [],
   "source": [
    "file_name = 'D:\\speech.txt'\n",
    "text=open(file_name).read()\n",
    "print(text)"
   ]
  },
  {
   "cell_type": "code",
   "execution_count": null,
   "metadata": {
    "scrolled": true
   },
   "outputs": [],
   "source": [
    "wc.generate(text)\n",
    "# 基于彩色图像生成相应彩色\n",
    "image_colors = ImageColorGenerator(back_color)\n",
    "# 显示图片\n",
    "plt.imshow(wc)\n",
    "# 关闭坐标轴\n",
    "plt.axis('off')\n",
    "# 绘制词云\n",
    "plt.figure()\n",
    "plt.imshow(wc.recolor(color_func=image_colors))\n",
    "plt.axis('off')\n",
    "# 保存图片\n",
    "wc.to_file('D:\\homework.png')"
   ]
  },
  {
   "cell_type": "code",
   "execution_count": null,
   "metadata": {},
   "outputs": [],
   "source": []
  },
  {
   "cell_type": "code",
   "execution_count": null,
   "metadata": {},
   "outputs": [],
   "source": []
  }
 ],
 "metadata": {
  "kernelspec": {
   "display_name": "Python 3",
   "language": "python",
   "name": "python3"
  },
  "language_info": {
   "codemirror_mode": {
    "name": "ipython",
    "version": 3
   },
   "file_extension": ".py",
   "mimetype": "text/x-python",
   "name": "python",
   "nbconvert_exporter": "python",
   "pygments_lexer": "ipython3",
   "version": "3.7.0"
  }
 },
 "nbformat": 4,
 "nbformat_minor": 2
}
