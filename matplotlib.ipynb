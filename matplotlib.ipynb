{
 "cells": [
  {
   "cell_type": "code",
   "execution_count": 20,
   "metadata": {},
   "outputs": [],
   "source": [
    "%matplotlib inline\n",
    "import os\n",
    "import matplotlib.pyplot as plt\n",
    "import pylab as pl\n",
    "import pandas as pd"
   ]
  },
  {
   "cell_type": "code",
   "execution_count": 21,
   "metadata": {},
   "outputs": [],
   "source": [
    "x=pd.read_excel('D:\\data.xlsx',usecols=[0])"
   ]
  },
  {
   "cell_type": "code",
   "execution_count": 22,
   "metadata": {},
   "outputs": [],
   "source": [
    "y1=pd.read_excel('D:\\data.xlsx',usecols=[1])"
   ]
  },
  {
   "cell_type": "code",
   "execution_count": 23,
   "metadata": {},
   "outputs": [],
   "source": [
    "y2=pd.read_excel('D:\\data.xlsx',usecols=[2])"
   ]
  },
  {
   "cell_type": "code",
   "execution_count": 35,
   "metadata": {},
   "outputs": [
    {
     "name": "stdout",
     "output_type": "stream",
     "text": [
      "         Date\n",
      "0  2019-04-01\n",
      "1  2019-03-01\n",
      "2  2019-02-01\n",
      "3  2019-01-01\n",
      "4  2018-12-01\n",
      "5  2018-11-01\n",
      "6  2018-10-01\n",
      "7  2018-09-01\n",
      "8  2018-08-01\n",
      "9  2018-07-01\n",
      "10 2018-06-01\n",
      "11 2018-05-01\n",
      "12 2018-04-01\n",
      "    Value\n",
      "0   100.9\n",
      "1   100.4\n",
      "2   100.1\n",
      "3   100.1\n",
      "4   100.9\n",
      "5   102.7\n",
      "6   103.3\n",
      "7   103.6\n",
      "8   104.1\n",
      "9   104.6\n",
      "10  104.7\n",
      "11  104.1\n",
      "12  103.4\n"
     ]
    },
    {
     "data": {
      "image/png": "[encoded data removed]",
      "text/plain": [
       "<Figure size 432x288 with 1 Axes>"
      ]
     },
     "metadata": {
      "needs_background": "light"
     },
     "output_type": "display_data"
    }
   ],
   "source": [
    "plt.title(\"PPI\")\n",
    "print(x)\n",
    "print(y1)\n",
    "pl.plot(x,y1)\n",
    "pl.xlabel('month')# make axis labels\n",
    "pl.ylabel('PPI Index')\n",
    "plt.show()"
   ]
  },
  {
   "cell_type": "code",
   "execution_count": 37,
   "metadata": {},
   "outputs": [
    {
     "name": "stdout",
     "output_type": "stream",
     "text": [
      "         Date\n",
      "0  2019-04-01\n",
      "1  2019-03-01\n",
      "2  2019-02-01\n",
      "3  2019-01-01\n",
      "4  2018-12-01\n",
      "5  2018-11-01\n",
      "6  2018-10-01\n",
      "7  2018-09-01\n",
      "8  2018-08-01\n",
      "9  2018-07-01\n",
      "10 2018-06-01\n",
      "11 2018-05-01\n",
      "12 2018-04-01\n",
      "    Percentage\n",
      "0        0.009\n",
      "1        0.004\n",
      "2        0.001\n",
      "3        0.001\n",
      "4        0.009\n",
      "5        0.027\n",
      "6        0.033\n",
      "7        0.036\n",
      "8        0.041\n",
      "9        0.046\n",
      "10       0.047\n",
      "11       0.041\n",
      "12       0.034\n"
     ]
    },
    {
     "data": {
      "image/png": "[encoded data removed]",
      "text/plain": [
       "<Figure size 432x288 with 1 Axes>"
      ]
     },
     "metadata": {
      "needs_background": "light"
     },
     "output_type": "display_data"
    }
   ],
   "source": [
    "plt.title('Increasing trend')\n",
    "print(x)\n",
    "print(y2)\n",
    "plt.plot(x,y2,'ro')\n",
    "pl.xlabel('month')# make axis labels\n",
    "pl.ylabel('percentage')\n",
    "plt.show()\n"
   ]
  },
  {
   "cell_type": "code",
   "execution_count": null,
   "metadata": {},
   "outputs": [],
   "source": []
  }
 ],
 "metadata": {
  "kernelspec": {
   "display_name": "Python 3",
   "language": "python",
   "name": "python3"
  },
  "language_info": {
   "codemirror_mode": {
    "name": "ipython",
    "version": 3
   },
   "file_extension": ".py",
   "mimetype": "text/x-python",
   "name": "python",
   "nbconvert_exporter": "python",
   "pygments_lexer": "ipython3",
   "version": "3.7.0"
  }
 },
 "nbformat": 4,
 "nbformat_minor": 2
}
